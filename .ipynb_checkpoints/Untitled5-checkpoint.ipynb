{
 "cells": [
  {
   "cell_type": "code",
   "execution_count": 1,
   "metadata": {},
   "outputs": [
    {
     "ename": "SyntaxError",
     "evalue": "invalid syntax (<ipython-input-1-6626688b448c>, line 9)",
     "output_type": "error",
     "traceback": [
      "\u001b[0;36m  File \u001b[0;32m\"<ipython-input-1-6626688b448c>\"\u001b[0;36m, line \u001b[0;32m9\u001b[0m\n\u001b[0;31m    fortweet_line in tweets_file:\u001b[0m\n\u001b[0m                                ^\u001b[0m\n\u001b[0;31mSyntaxError\u001b[0m\u001b[0;31m:\u001b[0m invalid syntax\n"
     ]
    }
   ],
   "source": [
    "%matplotlib notebook\n",
    "import matplotlib.pyplot as plt\n",
    "import json\n",
    "\n",
    "TWEETS_DATA_PATH = 'tweet_mining.json'\n",
    "\n",
    "results = []\n",
    "with open(TWEETS_DATA_PATH) as tweets_file:\n",
    "    fortweet_line in tweets_file:\n",
    "        try:\n",
    "            status = json.loads(tweet_line)\n",
    "            results.append(status)\n",
    "        except ValueError:\n",
    "            pass\n",
    "        \n",
    "print(len(results))"
   ]
  },
  {
   "cell_type": "code",
   "execution_count": null,
   "metadata": {},
   "outputs": [],
   "source": [
    "%matplotlib notebook\n",
    "import matplotlib.pyplot as plt\n",
    "import json\n",
    "\n",
    "TWEETS_DATA_PATH = 'tweet_mining.json'\n",
    "\n",
    "results = []\n",
    "with open(TWEETS_DATA_PATH) as tweets_file:\n",
    "    for tweet_line in tweets_file:\n",
    "        try:\n",
    "            status = json.loads(tweet_line)\n",
    "            results.append(status)\n",
    "        except ValueError:\n",
    "            pass\n",
    "        \n",
    "print(len(results))"
   ]
  }
 ],
 "metadata": {
  "kernelspec": {
   "display_name": "Python 3",
   "language": "python",
   "name": "python3"
  },
  "language_info": {
   "codemirror_mode": {
    "name": "ipython",
    "version": 3
   },
   "file_extension": ".py",
   "mimetype": "text/x-python",
   "name": "python",
   "nbconvert_exporter": "python",
   "pygments_lexer": "ipython3",
   "version": "3.4.3"
  }
 },
 "nbformat": 4,
 "nbformat_minor": 2
}
